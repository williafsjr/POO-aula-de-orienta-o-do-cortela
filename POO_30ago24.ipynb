{
  "nbformat": 4,
  "nbformat_minor": 0,
  "metadata": {
    "colab": {
      "provenance": [],
      "authorship_tag": "ABX9TyNQ6V5WaHVqQqTnQ6/bVM5Q",
      "include_colab_link": true
    },
    "kernelspec": {
      "name": "python3",
      "display_name": "Python 3"
    },
    "language_info": {
      "name": "python"
    }
  },
  "cells": [
    {
      "cell_type": "markdown",
      "metadata": {
        "id": "view-in-github",
        "colab_type": "text"
      },
      "source": [
        "<a href=\"https://colab.research.google.com/github/williafsjr/POO-aula-de-orienta-o-do-cortela/blob/main/POO_30ago24.ipynb\" target=\"_parent\"><img src=\"https://colab.research.google.com/assets/colab-badge.svg\" alt=\"Open In Colab\"/></a>"
      ]
    },
    {
      "cell_type": "code",
      "execution_count": null,
      "metadata": {
        "colab": {
          "base_uri": "https://localhost:8080/"
        },
        "id": "eDAejYiedUXe",
        "outputId": "f0f1b784-d4fa-478e-efdf-3f1ef81ce0ab"
      },
      "outputs": [
        {
          "output_type": "stream",
          "name": "stdout",
          "text": [
            "Digite o valor em Graus Farenheit: 2264\n",
            "O valor de 2264.0 ºFarenheit corresponde ao valor de 1240.0 ºC: \n"
          ]
        }
      ],
      "source": [
        "F = float(input(\"Digite o valor em Graus Farenheit: \"))\n",
        "C = (5/9)*(F-32)\n",
        "print(f\"O valor de {F} ºFarenheit corresponde ao valor de {C} ºC: \")"
      ]
    },
    {
      "cell_type": "markdown",
      "source": [
        "Ex 2) converter polegadas para mm"
      ],
      "metadata": {
        "id": "fgSk1_kbj3yT"
      }
    },
    {
      "cell_type": "code",
      "source": [
        "P = float(input(\"Digite o valor em Polegadas: \"))\n",
        "R = P*25.4\n",
        "print(f\"O valor de {P} em polegadas corresponde ao valor de {R} mm\")"
      ],
      "metadata": {
        "colab": {
          "base_uri": "https://localhost:8080/"
        },
        "id": "Dg9jUNG9kChd",
        "outputId": "25e3c400-a8da-4c41-d269-9a60809cf729"
      },
      "execution_count": null,
      "outputs": [
        {
          "output_type": "stream",
          "name": "stdout",
          "text": [
            "Digite o valor em Polegadas: 0.5\n",
            "O valor de 0.5 em polegadas corresponde ao valor de 12.7 mm\n"
          ]
        }
      ]
    },
    {
      "cell_type": "markdown",
      "source": [],
      "metadata": {
        "id": "c-7Zcwf9m4eB"
      }
    },
    {
      "cell_type": "markdown",
      "source": [
        "Ex 3) Solicitar para o usuario um valor em mm e depois cocnverta para polegadas"
      ],
      "metadata": {
        "id": "Z9a4nOd7mjQy"
      }
    },
    {
      "cell_type": "code",
      "source": [
        "MM = float(input(\"Digite um valor em MM: \"))\n",
        "R = MM/25.4\n",
        "print(f\"O valor de {MM} em polegadas é {R}: \")"
      ],
      "metadata": {
        "colab": {
          "base_uri": "https://localhost:8080/"
        },
        "id": "SZcEn5fwnTbS",
        "outputId": "df184836-a3dc-4da8-fc4d-69bf793a3df0"
      },
      "execution_count": 11,
      "outputs": [
        {
          "output_type": "stream",
          "name": "stdout",
          "text": [
            "Digite um valor em MM: 25.4\n",
            "O valor de 25.4 em polegadas é 1.0: \n"
          ]
        }
      ]
    },
    {
      "cell_type": "markdown",
      "source": [
        "Ex 4)Criar a narrativa, o pseudocódigo, o fluxograma e código de um programa que solicite ao usuário digitar sua idade e,\n",
        "em seguida, faça a verificação do valor; assim, se idade maior ou igual a 16 anos e menor que 70 anos, o programa\n",
        "deve retornar a mensagem “Você pode votar”. No caso contrário, ou seja, se menor que 16 anos ou maior que 70 anos\n",
        "“Sinto muito, infelizmente você não pode votar!”.\n",
        "\n"
      ],
      "metadata": {
        "id": "QRItjrK0odGy"
      }
    },
    {
      "cell_type": "code",
      "source": [
        "I = int(input(\"Digite sua idade: \"))\n",
        "if 16 <= I < 70:\n",
        "  print(\"Você pode votar\")\n",
        "else:\n",
        "  print(\"Você não tem idade para votar\")\n"
      ],
      "metadata": {
        "colab": {
          "base_uri": "https://localhost:8080/"
        },
        "id": "CMwyrsgholKi",
        "outputId": "3deaed88-d26f-4908-947b-b7d4e23e07cc"
      },
      "execution_count": 19,
      "outputs": [
        {
          "output_type": "stream",
          "name": "stdout",
          "text": [
            "Digite sua idade: 72\n",
            "Você não tem idade para votar\n"
          ]
        }
      ]
    },
    {
      "cell_type": "markdown",
      "source": [
        "Ex 5) Criar a narrativa, pseudocódigo, fluxograma e código um\n",
        "programa que receba o raio (r) de uma esfera, e em seguida\n",
        "calcule e exibir o seu volume (v) desta esfera."
      ],
      "metadata": {
        "id": "RjXWj0D1rqPV"
      }
    },
    {
      "cell_type": "code",
      "source": [
        "R = float(input(f\"Digite um valor de um raio: \"))\n",
        "C = (4/3)*3.14/(R*R*R)\n",
        "print(f\"O volume da esfera em raio {R} é {C} \")\n"
      ],
      "metadata": {
        "colab": {
          "base_uri": "https://localhost:8080/"
        },
        "id": "xWSXudlorsoT",
        "outputId": "a42cf5a8-022f-4b50-87d2-77b0815f02ac"
      },
      "execution_count": 26,
      "outputs": [
        {
          "output_type": "stream",
          "name": "stdout",
          "text": [
            "Digite um valor de um raio: 4\n",
            "O volume da esfera em raio 4.0 é 0.06541666666666666 \n"
          ]
        }
      ]
    },
    {
      "cell_type": "markdown",
      "source": [
        "Ex 6) Criar a narrativa, o pseudocódigo e o fluxograma para um\n",
        "programa que receba um ângulo (g) em graus, e converta este\n",
        "valor para radianos (r)."
      ],
      "metadata": {
        "id": "sLFxsfEdt7-T"
      }
    },
    {
      "cell_type": "code",
      "source": [
        "G = float(input(f\"digite um ângulo em graus: \"))\n",
        "R = G*3.14/180\n",
        "print(f\"O valor de {G}º em radianos é {R} \")"
      ],
      "metadata": {
        "colab": {
          "base_uri": "https://localhost:8080/"
        },
        "id": "rjnRbPwCt_aN",
        "outputId": "4880cb1f-ae78-492c-e4b5-f98436781fa8"
      },
      "execution_count": 29,
      "outputs": [
        {
          "output_type": "stream",
          "name": "stdout",
          "text": [
            "digite um ângulo em graus: 360\n",
            "O valor de 360.0º em radianos é 6.28 \n"
          ]
        }
      ]
    },
    {
      "cell_type": "markdown",
      "source": [
        "Ex 7) Criar a narrativa, pseudocódigo, fluxograma e código para um\n",
        "programa que receba o valor de um ângulo em radianos, e\n",
        "converta este valor para graus.\n"
      ],
      "metadata": {
        "id": "86jqMa8qu9lj"
      }
    },
    {
      "cell_type": "code",
      "source": [
        "R = float(input(f\"digite um ângulo em radiano: \"))\n",
        "G = R/180*3.14\n",
        "print(f\"O valor de um ângulo radiano {R} em graus é {G}: \")"
      ],
      "metadata": {
        "colab": {
          "base_uri": "https://localhost:8080/"
        },
        "id": "fjzHsYYavBhF",
        "outputId": "85c1a4bb-22f9-43ff-e754-a4cb165f1e0d"
      },
      "execution_count": 33,
      "outputs": [
        {
          "output_type": "stream",
          "name": "stdout",
          "text": [
            "digite um ângulo em radiano: 10\n",
            "O valor de um ângulo radiano 10.0 em graus é 0.17444444444444443\n"
          ]
        }
      ]
    },
    {
      "cell_type": "markdown",
      "source": [
        "Ex 8) Criar a narrativa, pseudocódigo, fluxograma e código para um programa\n",
        "que receba ângulo em radianos, e converta este valor para grados.\n",
        "Lembrar que 400 grados equivalem a 27."
      ],
      "metadata": {
        "id": "b6TQfDXewwWs"
      }
    },
    {
      "cell_type": "code",
      "source": [
        "R = float(input(\"digite um ângulo em radiano: \"))\n",
        "GR = 400*R/(2*3.14)\n",
        "print(f\"O valor de um ângulo radiano {R} em grados é {GR}:  \")"
      ],
      "metadata": {
        "colab": {
          "base_uri": "https://localhost:8080/"
        },
        "id": "MHx7s0K6w8Fk",
        "outputId": "6394ef2f-608b-4c71-c03c-f0d03758ebbe"
      },
      "execution_count": 34,
      "outputs": [
        {
          "output_type": "stream",
          "name": "stdout",
          "text": [
            "digite um ângulo em radiano: 10\n",
            "O valor de um ângulo radiano 10.0 em grados é 636.9426751592356:  \n"
          ]
        }
      ]
    },
    {
      "cell_type": "code",
      "source": [
        "pi = 3.14\n",
        "Vg = float(input(\"Digite graus: \"))\n",
        "Vrad1 = Vg*pi/180\n",
        "print(Vrad1)"
      ],
      "metadata": {
        "colab": {
          "base_uri": "https://localhost:8080/"
        },
        "id": "NK3GZ1GXz6Tl",
        "outputId": "88417072-542e-4b19-da62-a63988984c92"
      },
      "execution_count": 37,
      "outputs": [
        {
          "output_type": "stream",
          "name": "stdout",
          "text": [
            "Digite graus: 30\n",
            "0.5233333333333333\n"
          ]
        }
      ]
    },
    {
      "cell_type": "code",
      "source": [
        "from math import pi\n",
        "Vg = float(input(\"Digite graus: \"))\n",
        "Vrad2 = Vg*pi/180\n",
        "print(Vrad2)"
      ],
      "metadata": {
        "colab": {
          "base_uri": "https://localhost:8080/"
        },
        "id": "Osz13k7Q0TGf",
        "outputId": "0b37d1c8-0b09-44bd-e6f1-285da01fb5e2"
      },
      "execution_count": 38,
      "outputs": [
        {
          "output_type": "stream",
          "name": "stdout",
          "text": [
            "Digite graus: 30\n",
            "0.5235987755982988\n"
          ]
        }
      ]
    },
    {
      "cell_type": "code",
      "source": [
        "print(100*(Vrad2-Vrad1)/Vrad2)"
      ],
      "metadata": {
        "colab": {
          "base_uri": "https://localhost:8080/"
        },
        "id": "6PbXZhn-0jFE",
        "outputId": "e022d100-89db-45dc-a494-d55f0f1e5d60"
      },
      "execution_count": 40,
      "outputs": [
        {
          "output_type": "stream",
          "name": "stdout",
          "text": [
            "0.050695738289721286\n"
          ]
        }
      ]
    }
  ]
}